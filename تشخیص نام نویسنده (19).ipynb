{
 "cells": [
  {
   "cell_type": "code",
   "execution_count": 1,
   "metadata": {
    "colab": {},
    "colab_type": "code",
    "id": "xWPOemaC1-Vp"
   },
   "outputs": [],
   "source": [
    "import re\n",
    "import nltk\n",
    "import pickle\n",
    "import numpy as np \n",
    "import pandas as pd \n",
    "import seaborn as sns\n",
    "from scipy import stats\n",
    "from sklearn import tree\n",
    "from sklearn.svm import SVC\n",
    "from random import randrange\n",
    "from bs4 import BeautifulSoup \n",
    "from nltk import word_tokenize\n",
    "import matplotlib.pyplot as plt\n",
    "from operator import itemgetter\n",
    "from sklearn.svm import LinearSVC\n",
    "from nltk.corpus import stopwords\n",
    "from nltk.stem.porter import PorterStemmer\n",
    "from sklearn.naive_bayes import GaussianNB\n",
    "from sklearn.ensemble import VotingClassifier\n",
    "from sklearn.ensemble import ExtraTreesClassifier\n",
    "from sklearn.ensemble import RandomForestClassifier\n",
    "from sklearn.linear_model import LogisticRegression\n",
    "from sklearn.model_selection import cross_val_score\n",
    "from sklearn.model_selection import train_test_split\n",
    "from sklearn.metrics import precision_recall_fscore_support\n",
    "from sklearn.feature_extraction.text import TfidfVectorizer, CountVectorizer\n",
    "\n",
    "NB =GaussianNB()\n",
    "%matplotlib inline"
   ]
  },
  {
   "cell_type": "markdown",
   "metadata": {
    "colab_type": "text",
    "id": "x-3bqbF626WD"
   },
   "source": [
    "# خواندن مجموعه  داده "
   ]
  },
  {
   "cell_type": "code",
   "execution_count": 2,
   "metadata": {
    "colab": {
     "base_uri": "https://localhost:8080/",
     "height": 221
    },
    "colab_type": "code",
    "id": "FSFN881W2LH9",
    "outputId": "6facbb3d-936b-4d30-b8c7-e5de41306e29"
   },
   "outputs": [
    {
     "name": "stdout",
     "output_type": "stream",
     "text": [
      "Number of rows in train dataset :  19579\n"
     ]
    },
    {
     "data": {
      "text/html": [
       "<div>\n",
       "<style scoped>\n",
       "    .dataframe tbody tr th:only-of-type {\n",
       "        vertical-align: middle;\n",
       "    }\n",
       "\n",
       "    .dataframe tbody tr th {\n",
       "        vertical-align: top;\n",
       "    }\n",
       "\n",
       "    .dataframe thead th {\n",
       "        text-align: right;\n",
       "    }\n",
       "</style>\n",
       "<table border=\"1\" class=\"dataframe\">\n",
       "  <thead>\n",
       "    <tr style=\"text-align: right;\">\n",
       "      <th></th>\n",
       "      <th>id</th>\n",
       "      <th>text</th>\n",
       "      <th>author</th>\n",
       "    </tr>\n",
       "  </thead>\n",
       "  <tbody>\n",
       "    <tr>\n",
       "      <th>0</th>\n",
       "      <td>id26305</td>\n",
       "      <td>This process, however, afforded me no means of...</td>\n",
       "      <td>EAP</td>\n",
       "    </tr>\n",
       "    <tr>\n",
       "      <th>1</th>\n",
       "      <td>id17569</td>\n",
       "      <td>It never once occurred to me that the fumbling...</td>\n",
       "      <td>HPL</td>\n",
       "    </tr>\n",
       "    <tr>\n",
       "      <th>2</th>\n",
       "      <td>id11008</td>\n",
       "      <td>In his left hand was a gold snuff box, from wh...</td>\n",
       "      <td>EAP</td>\n",
       "    </tr>\n",
       "    <tr>\n",
       "      <th>3</th>\n",
       "      <td>id27763</td>\n",
       "      <td>How lovely is spring As we looked from Windsor...</td>\n",
       "      <td>MWS</td>\n",
       "    </tr>\n",
       "    <tr>\n",
       "      <th>4</th>\n",
       "      <td>id12958</td>\n",
       "      <td>Finding nothing else, not even gold, the Super...</td>\n",
       "      <td>HPL</td>\n",
       "    </tr>\n",
       "  </tbody>\n",
       "</table>\n",
       "</div>"
      ],
      "text/plain": [
       "        id                                               text author\n",
       "0  id26305  This process, however, afforded me no means of...    EAP\n",
       "1  id17569  It never once occurred to me that the fumbling...    HPL\n",
       "2  id11008  In his left hand was a gold snuff box, from wh...    EAP\n",
       "3  id27763  How lovely is spring As we looked from Windsor...    MWS\n",
       "4  id12958  Finding nothing else, not even gold, the Super...    HPL"
      ]
     },
     "execution_count": 2,
     "metadata": {},
     "output_type": "execute_result"
    }
   ],
   "source": [
    "dataset = pd.read_csv(\"train.csv\")\n",
    "print(\"Number of rows in train dataset : \",len(dataset))\n",
    "dataset.head()"
   ]
  },
  {
   "cell_type": "code",
   "execution_count": 3,
   "metadata": {
    "colab": {
     "base_uri": "https://localhost:8080/",
     "height": 85
    },
    "colab_type": "code",
    "id": "ESn3ZsTZ63e6",
    "outputId": "985e20e3-4e6f-4a94-a985-7adce18a42f7"
   },
   "outputs": [
    {
     "data": {
      "text/plain": [
       "EAP    7900\n",
       "MWS    6044\n",
       "HPL    5635\n",
       "Name: author, dtype: int64"
      ]
     },
     "execution_count": 3,
     "metadata": {},
     "output_type": "execute_result"
    }
   ],
   "source": [
    "dataset['author'].value_counts()"
   ]
  },
  {
   "cell_type": "markdown",
   "metadata": {
    "colab_type": "text",
    "id": "RmNz1jYi69LT"
   },
   "source": [
    "# تجزیه و تحلیل داده "
   ]
  },
  {
   "cell_type": "code",
   "execution_count": 4,
   "metadata": {
    "colab": {
     "base_uri": "https://localhost:8080/",
     "height": 287
    },
    "colab_type": "code",
    "id": "K1z_aAbY6_nr",
    "outputId": "667f4c9f-a04b-4523-b33c-3dbdaff9db9f"
   },
   "outputs": [
    {
     "data": {
      "image/png": "[encoded data removed]",
      "text/plain": [
       "<Figure size 432x288 with 1 Axes>"
      ]
     },
     "metadata": {
      "needs_background": "light"
     },
     "output_type": "display_data"
    }
   ],
   "source": [
    "cnt_srs=dataset['author'].value_counts()\n",
    "plt.figure(figsize=(6,4))\n",
    "sns.barplot ( cnt_srs.index , dataset['author'].value_counts(),alpha=0.8)# alpha :  ضریب میزان شفافیت رنگ\n",
    "\n",
    "plt.ylabel('Number of Occurrences', fontsize=10)\n",
    "plt.xlabel('Author Name', fontsize=14)\n",
    "\n",
    "plt.show()"
   ]
  },
  {
   "cell_type": "markdown",
   "metadata": {
    "colab_type": "text",
    "id": "f9ymBGTH4jqr"
   },
   "source": [
    "#  train و devو  test  تقسیم بندی دیتاست به \n"
   ]
  },
  {
   "cell_type": "code",
   "execution_count": 5,
   "metadata": {},
   "outputs": [],
   "source": [
    "from sklearn import preprocessing, decomposition, model_selection, metrics, pipeline\n",
    "\n",
    "lbl_enc = preprocessing.LabelEncoder()\n",
    "y = lbl_enc.fit_transform(dataset.author.values)\n",
    "\n",
    "xrest, xdev, yrest, ydev = train_test_split(dataset.text.values, y, \n",
    "                                                  stratify=y, \n",
    "                                                  random_state=42, \n",
    "                                                  test_size=0.1, shuffle=True)\n",
    "Xrest=pd.DataFrame(xrest)\n",
    "Yrest=pd.DataFrame(yrest)\n",
    "Xrest[\"author\"]=Yrest[0]\n",
    "Xrest.columns = ['text', 'author']\n",
    "\n",
    "y2 = lbl_enc.fit_transform(Xrest.author.values)\n",
    "\n",
    "xtrain, xtest, ytrain, ytest = train_test_split(Xrest.text.values, y2, \n",
    "                                                  stratify=y2, \n",
    "                                                  random_state=42, \n",
    "                                                  test_size=0.2222, shuffle=True)\n",
    "\n",
    "Ydev=pd.DataFrame(ydev)\n",
    "z0=pickle.dump(Ydev, open('Ydev.pkl','wb'))\n",
    "\n",
    "Ytrain=pd.DataFrame(ytrain)\n",
    "z0=pickle.dump(Ytrain, open('Ytrain.pkl','wb'))\n",
    "\n",
    "Ytest=pd.DataFrame(ytest)\n",
    "zo=pickle.dump(Ytest, open('Ytest.pkl','wb'))\n"
   ]
  },
  {
   "cell_type": "code",
   "execution_count": 6,
   "metadata": {},
   "outputs": [
    {
     "name": "stdout",
     "output_type": "stream",
     "text": [
      "0 \t:EAP\n",
      " 1 \t:HPL\n",
      " 2 \t:MWS\n",
      "\n"
     ]
    }
   ],
   "source": [
    "dataset['author'].value_counts(),pd.DataFrame(y)[0].value_counts()\n",
    "print(0,'\\t:EAP\\n',1,'\\t:HPL\\n',2,'\\t:MWS\\n')"
   ]
  },
  {
   "cell_type": "code",
   "execution_count": 7,
   "metadata": {},
   "outputs": [
    {
     "name": "stdout",
     "output_type": "stream",
     "text": [
      "(13705,)\n",
      "(3916,)\n",
      "(1958,)\n",
      "(13705,)\n",
      "(3916,)\n",
      "(1958,)\n"
     ]
    }
   ],
   "source": [
    "print (xtrain.shape)\n",
    "print (xtest.shape)\n",
    "print (xdev.shape)\n",
    "print (ytrain.shape)\n",
    "print (ytest.shape)\n",
    "print (ydev.shape)"
   ]
  },
  {
   "cell_type": "code",
   "execution_count": 8,
   "metadata": {},
   "outputs": [
    {
     "data": {
      "image/png": "[encoded data removed]",
      "text/plain": [
       "<Figure size 432x288 with 1 Axes>"
      ]
     },
     "metadata": {
      "needs_background": "light"
     },
     "output_type": "display_data"
    }
   ],
   "source": [
    "\n",
    "cnt_srs=pd.DataFrame(ytrain)[0].value_counts()\n",
    "plt.figure(figsize=(6,4))\n",
    "sns.barplot ( cnt_srs.index , pd.DataFrame(ytrain)[0].value_counts(),alpha=0.8)# alpha :  ضریب میزان شفافیت رنگ\n",
    "\n",
    "plt.ylabel('Number of Occurrences', fontsize=10)\n",
    "plt.xlabel('Author Name_train 0: EAP__1:HPL__2:MWS', fontsize=14)\n",
    "\n",
    "plt.show()"
   ]
  },
  {
   "cell_type": "code",
   "execution_count": 9,
   "metadata": {},
   "outputs": [
    {
     "data": {
      "image/png": "[encoded data removed]",
      "text/plain": [
       "<Figure size 432x288 with 1 Axes>"
      ]
     },
     "metadata": {
      "needs_background": "light"
     },
     "output_type": "display_data"
    }
   ],
   "source": [
    "cnt_srs=pd.DataFrame(ydev)[0].value_counts()\n",
    "plt.figure(figsize=(6,4))\n",
    "sns.barplot ( cnt_srs.index , pd.DataFrame(ydev)[0].value_counts(),alpha=0.8)# alpha :  ضریب میزان شفافیت رنگ\n",
    "\n",
    "plt.ylabel('Number of Occurrences', fontsize=10)\n",
    "plt.xlabel('Author Name_dev 0: EAP__1:HPL__2:MWS', fontsize=14)\n",
    "\n",
    "plt.show()"
   ]
  },
  {
   "cell_type": "code",
   "execution_count": 10,
   "metadata": {},
   "outputs": [
    {
     "data": {
      "image/png": "[encoded data removed]",
      "text/plain": [
       "<Figure size 432x288 with 1 Axes>"
      ]
     },
     "metadata": {
      "needs_background": "light"
     },
     "output_type": "display_data"
    }
   ],
   "source": [
    "cnt_srs=pd.DataFrame(ytest)[0].value_counts()\n",
    "plt.figure(figsize=(6,4))\n",
    "sns.barplot ( cnt_srs.index , pd.DataFrame(ytest)[0].value_counts(),alpha=0.8)# alpha :  ضریب میزان شفافیت رنگ\n",
    "\n",
    "plt.ylabel('Number of Occurrences', fontsize=10)\n",
    "plt.xlabel('Author Name_test 0: EAP__1:HPL__2:MWS', fontsize=14)\n",
    "\n",
    "plt.show()"
   ]
  },
  {
   "cell_type": "code",
   "execution_count": 11,
   "metadata": {
    "colab": {},
    "colab_type": "code",
    "id": "T3uL4GX12Lb7"
   },
   "outputs": [],
   "source": [
    "### پاکسازی داده\n",
    "\n",
    "def cleaning_and_stemming(text, non_alpha=True, normalization=True, stemming=True, stopword=True):\n",
    "    Beautiful_text = BeautifulSoup(text).get_text() \n",
    "    words = word_tokenize(Beautiful_text)\n",
    "    if non_alpha:\n",
    "        words = [word for word in words if word.isalpha()]\n",
    "    if normalization:\n",
    "        words = [w.lower() for w in words]\n",
    "    if stopword:\n",
    "        stop_words = set(stopwords.words('english'))\n",
    "        words = [w for w in words if w not in stop_words]\n",
    "    if stemming:\n",
    "        porter = PorterStemmer()\n",
    "        words = [porter.stem(word) for word in words]\n",
    "    return( \" \".join(words ))\n",
    "\n",
    "\n",
    "\n",
    "#*************************************************************************************************************************"
   ]
  },
  {
   "cell_type": "markdown",
   "metadata": {
    "colab_type": "text",
    "id": "AQC-cpUn40DK"
   },
   "source": [
    "#  train, test , dev پاکسازی"
   ]
  },
  {
   "cell_type": "code",
   "execution_count": 12,
   "metadata": {
    "colab": {},
    "colab_type": "code",
    "id": "pUJDjrLi2Lf7"
   },
   "outputs": [],
   "source": [
    "clean_train=list(range(len(xtrain)))\n",
    "clean_dev = list(range(len(xdev)))\n",
    "clean_test = list(range(len(xtest)))\n",
    "xTrain= pd.DataFrame(xtrain)\n",
    "xDev=pd.DataFrame(xdev)\n",
    "xTest=pd.DataFrame(xtest)\n",
    "clean_train=xTrain[0].apply(lambda x: cleaning_and_stemming(x) ).tolist()\n",
    "clean_dev=xDev[0].apply ( lambda x: cleaning_and_stemming(x) ).tolist()\n",
    "clean_test=xTest[0].apply ( lambda x: cleaning_and_stemming(x) ).tolist()"
   ]
  },
  {
   "cell_type": "markdown",
   "metadata": {
    "colab_type": "text",
    "id": "hnAX3dTR5Z7F"
   },
   "source": [
    "# Creating the BOW_binary"
   ]
  },
  {
   "cell_type": "code",
   "execution_count": 13,
   "metadata": {
    "colab": {
     "base_uri": "https://localhost:8080/",
     "height": 51
    },
    "colab_type": "code",
    "id": "0zwgOczL5X_r",
    "outputId": "a57500be-29b2-4041-aadc-9a0021722cfb"
   },
   "outputs": [
    {
     "name": "stdout",
     "output_type": "stream",
     "text": [
      "Creating the bag of words binary...\n",
      "\n"
     ]
    }
   ],
   "source": [
    "print (\"Creating the bag of words binary...\\n\")\n",
    "vectorizer = CountVectorizer(min_df=3,  max_features=None, strip_accents='unicode', analyzer='word',ngram_range=(1, 3))\n",
    "\n",
    "train_BOW_bi = vectorizer.fit_transform(clean_train).toarray()\n",
    "dev_BOW_bi = vectorizer.transform(clean_dev).toarray()   \n",
    "test_BOW_bi = vectorizer.transform(clean_test).toarray()  \n",
    "\n",
    "for i in range (len(train_BOW_bi)):\n",
    "    for j in range (len(train_BOW_bi[i])):\n",
    "        if train_BOW_bi[i][j]!=0 :\n",
    "            train_BOW_bi[i][j]=1\n",
    "            \n",
    "for i in range (len(dev_BOW_bi)):\n",
    "    for j in range (len(dev_BOW_bi[i])):\n",
    "        if dev_BOW_bi[i][j]!=0 :\n",
    "            dev_BOW_bi[i][j]=1  \n",
    "            \n",
    "for i in range (len(test_BOW_bi)):\n",
    "    for j in range (len(test_BOW_bi[i])):\n",
    "        if test_BOW_bi[i][j]!=0 :\n",
    "            test_BOW_bi[i][j]=1  \n",
    "            "
   ]
  },
  {
   "cell_type": "markdown",
   "metadata": {
    "colab_type": "text",
    "id": "RjGzjOUO5jtz"
   },
   "source": [
    "# Creating the bag of words"
   ]
  },
  {
   "cell_type": "code",
   "execution_count": 14,
   "metadata": {
    "colab": {
     "base_uri": "https://localhost:8080/",
     "height": 51
    },
    "colab_type": "code",
    "id": "lRMNmZt25blb",
    "outputId": "59170801-3844-4e7f-ffc6-df8fc798ca75"
   },
   "outputs": [
    {
     "name": "stdout",
     "output_type": "stream",
     "text": [
      "Creating the bag of words...\n",
      "\n"
     ]
    }
   ],
   "source": [
    "print (\"Creating the bag of words...\\n\")\n",
    "train_BOW = vectorizer.fit_transform(clean_train).toarray()\n",
    "dev_BOW = vectorizer.transform(clean_dev).toarray()  \n",
    "test_BOW = vectorizer.transform(clean_test).toarray()  "
   ]
  },
  {
   "cell_type": "markdown",
   "metadata": {
    "colab_type": "text",
    "id": "nbDRFeu55rnr"
   },
   "source": [
    "# Creating the TF & IDF"
   ]
  },
  {
   "cell_type": "code",
   "execution_count": 15,
   "metadata": {
    "colab": {
     "base_uri": "https://localhost:8080/",
     "height": 51
    },
    "colab_type": "code",
    "id": "hAUT1EWw5lAj",
    "outputId": "aa0585c6-7105-439c-ca8a-85daac85621f"
   },
   "outputs": [
    {
     "name": "stdout",
     "output_type": "stream",
     "text": [
      "Creating the Tfidf ...\n",
      "\n"
     ]
    }
   ],
   "source": [
    "print (\"Creating the Tfidf ...\\n\")\n",
    "vectorizer = TfidfVectorizer(min_df=3,  max_features=None, \n",
    "            strip_accents='unicode', analyzer='word',\n",
    "            ngram_range=(1, 3), use_idf=1,smooth_idf=1,sublinear_tf=1)\n",
    "\n",
    "\n",
    "train_TFIDF = vectorizer.fit_transform(clean_train).toarray()\n",
    "dev_TFIDF = vectorizer.transform(clean_dev).toarray()\n",
    "test_TFIDF = vectorizer.transform(clean_test).toarray()\n"
   ]
  },
  {
   "cell_type": "code",
   "execution_count": 16,
   "metadata": {},
   "outputs": [],
   "source": [
    "Ytrain=pd.DataFrame(ytrain)\n",
    "Ydev=pd.DataFrame(ydev)\n",
    "Ytest=pd.DataFrame(ytest)"
   ]
  },
  {
   "cell_type": "code",
   "execution_count": 17,
   "metadata": {
    "colab": {},
    "colab_type": "code",
    "id": "CuJVgEk4epYw"
   },
   "outputs": [],
   "source": [
    "Fscoer_clf=list (range (1000))\n",
    "Pred_clf=list (range (1000))"
   ]
  },
  {
   "cell_type": "code",
   "execution_count": 18,
   "metadata": {},
   "outputs": [],
   "source": [
    "Fscoer_clf_test=list (range (1000))\n",
    "Pred_clf_test=list (range (1000))"
   ]
  },
  {
   "cell_type": "markdown",
   "metadata": {
    "colab_type": "text",
    "id": "rCuT6I7Y56Td"
   },
   "source": [
    "# ساخت 100 تا ترین "
   ]
  },
  {
   "cell_type": "code",
   "execution_count": 19,
   "metadata": {},
   "outputs": [
    {
     "name": "stderr",
     "output_type": "stream",
     "text": [
      "C:\\Users\\5920350\\Anaconda3\\lib\\site-packages\\ipykernel_launcher.py:3: FutureWarning: Method .as_matrix will be removed in a future version. Use .values instead.\n",
      "  This is separate from the ipykernel package so we can avoid doing imports until\n",
      "C:\\Users\\5920350\\Anaconda3\\lib\\site-packages\\ipykernel_launcher.py:7: FutureWarning: Method .as_matrix will be removed in a future version. Use .values instead.\n",
      "  import sys\n"
     ]
    }
   ],
   "source": [
    "train_TFIDF_D=pd.DataFrame(train_TFIDF)\n",
    "train_TFIDF_D['lable']=ytrain\n",
    "train_TFIDF_D=train_TFIDF_D.as_matrix()\n",
    "\n",
    "dev_TFIDF_D=pd.DataFrame(dev_TFIDF)\n",
    "dev_TFIDF_D['lable']=ydev\n",
    "dev_TFIDF_D=dev_TFIDF_D.as_matrix()"
   ]
  },
  {
   "cell_type": "code",
   "execution_count": 20,
   "metadata": {},
   "outputs": [
    {
     "name": "stderr",
     "output_type": "stream",
     "text": [
      "C:\\Users\\5920350\\Anaconda3\\lib\\site-packages\\ipykernel_launcher.py:3: FutureWarning: Method .as_matrix will be removed in a future version. Use .values instead.\n",
      "  This is separate from the ipykernel package so we can avoid doing imports until\n"
     ]
    }
   ],
   "source": [
    "test_TFIDF_D=pd.DataFrame(test_TFIDF)\n",
    "test_TFIDF_D['lable']=ytest\n",
    "test_TFIDF_D=test_TFIDF_D.as_matrix()\n"
   ]
  },
  {
   "cell_type": "code",
   "execution_count": 21,
   "metadata": {},
   "outputs": [],
   "source": [
    "# Create a random subsample from the dataset with replacement\n",
    "\n",
    "def subsample(dataset):\n",
    "    sample = list()\n",
    "    for i in range (dataset.shape[0]):\n",
    "        index = randrange(dataset.shape[0])\n",
    "        sample.append(dataset[index])\n",
    "    return sample\n",
    "\n",
    "def cerat_muliti_dataset(dataset):\n",
    "    COM_LIST=list(range(100))\n",
    "    for i in range (len(COM_LIST)):\n",
    "        COM_LIST[i]=subsample(dataset)\n",
    "    return COM_LIST\n",
    "COM_LIST=cerat_muliti_dataset(train_TFIDF_D)  "
   ]
  },
  {
   "cell_type": "markdown",
   "metadata": {
    "colab_type": "text",
    "id": "Hg1rE7_oexgX"
   },
   "source": [
    "## 1- LinearSVC"
   ]
  },
  {
   "cell_type": "code",
   "execution_count": 78,
   "metadata": {
    "colab": {},
    "colab_type": "code",
    "id": "4J_HuwfqepLA"
   },
   "outputs": [
    {
     "name": "stdout",
     "output_type": "stream",
     "text": [
      "F_clf0= 0.7676200204290092\n"
     ]
    }
   ],
   "source": [
    "#bow binary\n",
    "# clf0=LinearSVC(C=2.5, penalty=\"l2\", dual=False ,tol=0.0025).fit(train_BOW_bi,Ytrain) ##only for frist run\n",
    "# z0=pickle.dump(clf0, open('bay_model_0.pkl','wb')) ##only for frist run\n",
    "z0=pickle.load(open('bay_model_0.pkl','rb'))\n",
    "p_clf0=np.array(z0.predict(dev_BOW_bi).tolist(),dtype=float)\n",
    "F_clf0 = precision_recall_fscore_support(Ydev, p_clf0, average='micro')[2]\n",
    "Pred_clf[0]=p_clf0\n",
    "Fscoer_clf[0]=F_clf0\n",
    "print('F_clf0=',F_clf0) "
   ]
  },
  {
   "cell_type": "code",
   "execution_count": 79,
   "metadata": {},
   "outputs": [
    {
     "name": "stdout",
     "output_type": "stream",
     "text": [
      "F_clf0= 0.7655771195097038\n"
     ]
    }
   ],
   "source": [
    "p_clf1=np.array(z0.predict(test_BOW_bi).tolist(),dtype=float)\n",
    "F_clf1 = precision_recall_fscore_support(Ytest, p_clf1, average='micro')[2]\n",
    "Pred_clf_test[0]=p_clf1\n",
    "Fscoer_clf_test[0]=F_clf1\n",
    "print('F_clf0=',F_clf1) "
   ]
  },
  {
   "cell_type": "code",
   "execution_count": 80,
   "metadata": {},
   "outputs": [
    {
     "name": "stdout",
     "output_type": "stream",
     "text": [
      "F_clf1= 0.7655771195097038\n"
     ]
    }
   ],
   "source": [
    "#bow \n",
    "# clf0=LinearSVC(C=2.5, penalty=\"l2\", dual=False ,tol=0.0025).fit(train_BOW,Ytrain) ##only for frist run\n",
    "# z0=pickle.dump(clf0, open('bay_model_1.pkl','wb')) ##only for frist run\n",
    "z0=pickle.load(open('bay_model_1.pkl','rb'))\n",
    "p_clf0=np.array(z0.predict(dev_BOW).tolist(),dtype=float)\n",
    "F_clf0 = precision_recall_fscore_support(Ydev, p_clf0, average='micro')[2]\n",
    "Pred_clf[1]=p_clf0\n",
    "Fscoer_clf[1]=F_clf0\n",
    "print('F_clf1=',F_clf0) "
   ]
  },
  {
   "cell_type": "code",
   "execution_count": 81,
   "metadata": {},
   "outputs": [
    {
     "name": "stdout",
     "output_type": "stream",
     "text": [
      "F_clf1= 0.7630234933605718\n"
     ]
    }
   ],
   "source": [
    "p_clf1=np.array(z0.predict(test_BOW).tolist(),dtype=float)\n",
    "F_clf1 = precision_recall_fscore_support(Ytest, p_clf1, average='micro')[2]\n",
    "Pred_clf_test[1]=p_clf1\n",
    "Fscoer_clf_test[1]=F_clf1\n",
    "print('F_clf1=',F_clf1) "
   ]
  },
  {
   "cell_type": "code",
   "execution_count": 82,
   "metadata": {
    "colab": {},
    "colab_type": "code",
    "id": "QCoyQ3OveppS"
   },
   "outputs": [
    {
     "name": "stdout",
     "output_type": "stream",
     "text": [
      "F_clf2= 0.7946884576098059\n"
     ]
    }
   ],
   "source": [
    "#tfidf\n",
    "# clf0=LinearSVC(C=2.5, penalty=\"l2\", dual=False ,tol=0.0025).fit(train_TFIDF,Ytrain) ##only for frist run\n",
    "# z0=pickle.dump(clf0, open('bay_model_2.pkl','wb'))  ##only for frist run\n",
    "z0=pickle.load(open('bay_model_2.pkl','rb'))\n",
    "p_clf0=np.array(z0.predict(dev_TFIDF).tolist(),dtype=float)\n",
    "F_clf0 = precision_recall_fscore_support(Ydev, p_clf0, average='micro')[2]\n",
    "Pred_clf[2]=p_clf0\n",
    "Fscoer_clf[2]=F_clf0\n",
    "print('F_clf2=',F_clf0) "
   ]
  },
  {
   "cell_type": "code",
   "execution_count": 83,
   "metadata": {},
   "outputs": [
    {
     "name": "stdout",
     "output_type": "stream",
     "text": [
      "F_clf2= 0.8003064351378958\n"
     ]
    }
   ],
   "source": [
    "p_clf1=np.array(z0.predict(test_TFIDF).tolist(),dtype=float)\n",
    "F_clf1 = precision_recall_fscore_support(Ytest, p_clf1, average='micro')[2]\n",
    "Pred_clf_test[2]=p_clf1\n",
    "Fscoer_clf_test[2]=F_clf1\n",
    "print('F_clf2=',F_clf1) "
   ]
  },
  {
   "cell_type": "code",
   "execution_count": 84,
   "metadata": {},
   "outputs": [],
   "source": [
    "#100 train with tfidf\n",
    "\n",
    "for i in range (3,103):\n",
    "##only for frist run\n",
    "#     j=i-3\n",
    "#     ff=np.array(COM_LIST[j],dtype=float)\n",
    "#     fff=pd.DataFrame(ff)\n",
    "#     num=fff.shape[1]-1\n",
    "#     xcom=fff.iloc[:,0:num].as_matrix()\n",
    "#     Ycom=pd.DataFrame(fff.iloc[:,-1].as_matrix())\n",
    "#     clf0=LinearSVC(C=2.5, penalty=\"l2\", dual=False ,tol=0.0025).fit(xcom,Ycom)\n",
    "#     z0=pickle.dump(clf0, open('bay_model_%d.pkl'%i,'wb'))\n",
    "    z0=pickle.load(open('bay_model_%d.pkl'%i,'rb'))\n",
    "    p_clf0=z0.predict(dev_TFIDF)\n",
    "    F_clf0 = precision_recall_fscore_support(Ydev, p_clf0, average='micro')[2]\n",
    "    Pred_clf[i]=p_clf0\n",
    "    Fscoer_clf[i]=F_clf0\n",
    "#     print('F_clf%d='%i,F_clf0) \n",
    "\n"
   ]
  },
  {
   "cell_type": "code",
   "execution_count": 85,
   "metadata": {},
   "outputs": [],
   "source": [
    "for i in range (3,103):\n",
    "    z0=pickle.load(open('bay_model_%d.pkl'%i,'rb'))\n",
    "    p_clf1=z0.predict(test_TFIDF)\n",
    "    F_clf1 = precision_recall_fscore_support(Ytest, p_clf1, average='micro')[2]\n",
    "    Pred_clf_test[i]=p_clf1\n",
    "    Fscoer_clf_test[i]=F_clf1\n",
    "#     print('F_clf%d='%i,F_clf1) "
   ]
  },
  {
   "cell_type": "markdown",
   "metadata": {
    "colab_type": "text",
    "id": "oU4sRF2pfWPI"
   },
   "source": [
    "## 2- NB"
   ]
  },
  {
   "cell_type": "code",
   "execution_count": 86,
   "metadata": {
    "colab": {},
    "colab_type": "code",
    "id": "X9wb_81kfVHz"
   },
   "outputs": [
    {
     "name": "stdout",
     "output_type": "stream",
     "text": [
      "F_clf103= 0.660367722165475\n"
     ]
    }
   ],
   "source": [
    "#bow binary\n",
    "# clf0=GaussianNB().fit(train_BOW_bi,Ytrain) ##only for frist run\n",
    "# z0=pickle.dump(clf0, open('bay_model_103.pkl','wb')) ##only for frist run\n",
    "z0=pickle.load(open('bay_model_103.pkl','rb'))\n",
    "p_clf0=np.array(z0.predict(dev_BOW_bi).tolist(),dtype=float)\n",
    "F_clf0 = precision_recall_fscore_support(Ydev, p_clf0, average='micro')[2]\n",
    "Pred_clf[103]=p_clf0\n",
    "Fscoer_clf[103]=F_clf0\n",
    "print('F_clf103=',F_clf0) "
   ]
  },
  {
   "cell_type": "code",
   "execution_count": 87,
   "metadata": {},
   "outputs": [
    {
     "name": "stdout",
     "output_type": "stream",
     "text": [
      "F_clf3= 0.6519407558733401\n"
     ]
    }
   ],
   "source": [
    "p_clf1=np.array(z0.predict(test_BOW_bi).tolist(),dtype=float)\n",
    "F_clf1 = precision_recall_fscore_support(Ytest, p_clf1, average='micro')[2]\n",
    "Pred_clf_test[103]=p_clf1\n",
    "Fscoer_clf_test[103]=F_clf1\n",
    "print('F_clf3=',F_clf1) "
   ]
  },
  {
   "cell_type": "code",
   "execution_count": 88,
   "metadata": {
    "colab": {},
    "colab_type": "code",
    "id": "kBbGxqUjfVQ3"
   },
   "outputs": [
    {
     "name": "stdout",
     "output_type": "stream",
     "text": [
      "F_clf104= 0.6613891726251276\n"
     ]
    }
   ],
   "source": [
    "# bow\n",
    "# clf0=GaussianNB().fit(train_BOW,Ytrain) ##only for frist run\n",
    "# z0=pickle.dump(clf0, open('bay_model_104.pkl','wb')) ##only for frist run\n",
    "z0=pickle.load(open('bay_model_104.pkl','rb'))\n",
    "p_clf0=np.array(z0.predict(dev_BOW).tolist(),dtype=float)\n",
    "F_clf0 = precision_recall_fscore_support(Ydev, p_clf0, average='micro')[2]\n",
    "Pred_clf[104]=p_clf0\n",
    "Fscoer_clf[104]=F_clf0\n",
    "print('F_clf104=',F_clf0)"
   ]
  },
  {
   "cell_type": "code",
   "execution_count": 89,
   "metadata": {},
   "outputs": [
    {
     "name": "stdout",
     "output_type": "stream",
     "text": [
      "F_clf104= 0.6521961184882533\n"
     ]
    }
   ],
   "source": [
    "p_clf1=np.array(z0.predict(test_BOW).tolist(),dtype=float)\n",
    "F_clf1 = precision_recall_fscore_support(Ytest, p_clf1, average='micro')[2]\n",
    "Pred_clf_test[104]=p_clf1\n",
    "Fscoer_clf_test[104]=F_clf1\n",
    "print('F_clf104=',F_clf1) "
   ]
  },
  {
   "cell_type": "code",
   "execution_count": 90,
   "metadata": {
    "colab": {},
    "colab_type": "code",
    "id": "FyHkgR8WfVYJ"
   },
   "outputs": [
    {
     "name": "stdout",
     "output_type": "stream",
     "text": [
      "F_clf105= 0.6736465781409602\n"
     ]
    }
   ],
   "source": [
    "#tfidf\n",
    "# clf0=GaussianNB().fit(train_TFIDF,Ytrain) ##only for frist run\n",
    "# z0=pickle.dump(clf0, open('bay_model_105.pkl','wb')) ##only for frist run\n",
    "z0=pickle.load(open('bay_model_105.pkl','rb'))\n",
    "p_clf0=np.array(z0.predict(dev_TFIDF).tolist(),dtype=float)\n",
    "F_clf0 = precision_recall_fscore_support(Ydev, p_clf0, average='micro')[2]\n",
    "Pred_clf[105]=p_clf0\n",
    "Fscoer_clf[105]=F_clf0\n",
    "print('F_clf105=',F_clf0) "
   ]
  },
  {
   "cell_type": "code",
   "execution_count": 91,
   "metadata": {},
   "outputs": [
    {
     "name": "stdout",
     "output_type": "stream",
     "text": [
      "F_clf105= 0.6557711950970377\n"
     ]
    }
   ],
   "source": [
    "p_clf1=np.array(z0.predict(test_TFIDF).tolist(),dtype=float)\n",
    "F_clf1 = precision_recall_fscore_support(Ytest, p_clf1, average='micro')[2]\n",
    "Pred_clf_test[105]=p_clf1\n",
    "Fscoer_clf_test[105]=F_clf1\n",
    "print('F_clf105=',F_clf1) "
   ]
  },
  {
   "cell_type": "code",
   "execution_count": 92,
   "metadata": {},
   "outputs": [],
   "source": [
    "for i in range (106,206):\n",
    "##only for frist run\n",
    "#     j=i-106\n",
    "#     ff=np.array(COM_LIST[j],dtype=float)\n",
    "#     fff=pd.DataFrame(ff)\n",
    "#     num=fff.shape[1]-1\n",
    "#     xcom=fff.iloc[:,0:num].as_matrix()\n",
    "#     Ycom=pd.DataFrame(fff.iloc[:,-1].as_matrix())\n",
    "#     clf0=GaussianNB().fit(xcom,Ycom)\n",
    "#     z0=pickle.dump(clf0, open('bay_model_%d.pkl'%i,'wb'))\n",
    "    z0=pickle.load(open('bay_model_%d.pkl'%i,'rb'))\n",
    "    p_clf0=z0.predict(dev_TFIDF)\n",
    "    F_clf0 = precision_recall_fscore_support(Ydev, p_clf0, average='micro')[2]\n",
    "    Pred_clf[i]=p_clf0\n",
    "    Fscoer_clf[i]=F_clf0\n",
    "#     print('F_clf%d='%i,F_clf0) \n"
   ]
  },
  {
   "cell_type": "code",
   "execution_count": 93,
   "metadata": {},
   "outputs": [],
   "source": [
    "for i in range (106,206):\n",
    "    z0=pickle.load(open('bay_model_%d.pkl'%i,'rb'))\n",
    "    p_clf1=z0.predict(test_TFIDF)\n",
    "    F_clf1 = precision_recall_fscore_support(Ytest, p_clf1, average='micro')[2]\n",
    "    Pred_clf_test[i]=p_clf1\n",
    "    Fscoer_clf_test[i]=F_clf1\n",
    "#     print('F_clf%d='%i,F_clf1) "
   ]
  },
  {
   "cell_type": "markdown",
   "metadata": {
    "colab_type": "text",
    "id": "XTnj56bxfwCM"
   },
   "source": [
    "# 3-LogisticRegression()"
   ]
  },
  {
   "cell_type": "code",
   "execution_count": 94,
   "metadata": {
    "colab": {},
    "colab_type": "code",
    "id": "KveLcKrjfVjR"
   },
   "outputs": [
    {
     "name": "stdout",
     "output_type": "stream",
     "text": [
      "F_clf206= 0.7967313585291115\n"
     ]
    }
   ],
   "source": [
    "#bow binary\n",
    "# clf0=LogisticRegression().fit(train_BOW_bi,Ytrain) ##only for frist run\n",
    "# z0=pickle.dump(clf0, open('bay_model_206.pkl','wb')) ##only for frist run\n",
    "z0=pickle.load(open('bay_model_206.pkl','rb'))\n",
    "p_clf0=np.array(z0.predict(dev_BOW_bi).tolist(),dtype=float)\n",
    "F_clf0 = precision_recall_fscore_support(Ydev, p_clf0, average='micro')[2]\n",
    "Pred_clf[206]=p_clf0\n",
    "Fscoer_clf[206]=F_clf0\n",
    "print('F_clf206=',F_clf0) \n"
   ]
  },
  {
   "cell_type": "code",
   "execution_count": 95,
   "metadata": {},
   "outputs": [
    {
     "name": "stdout",
     "output_type": "stream",
     "text": [
      "F_clf206= 0.8064351378958121\n"
     ]
    }
   ],
   "source": [
    "p_clf1=np.array(z0.predict(test_BOW_bi).tolist(),dtype=float)\n",
    "F_clf1 = precision_recall_fscore_support(Ytest, p_clf1, average='micro')[2]\n",
    "Pred_clf_test[206]=p_clf1\n",
    "Fscoer_clf_test[206]=F_clf1\n",
    "print('F_clf206=',F_clf1) "
   ]
  },
  {
   "cell_type": "code",
   "execution_count": 96,
   "metadata": {
    "colab": {},
    "colab_type": "code",
    "id": "l-M39B6BfxCF"
   },
   "outputs": [
    {
     "name": "stdout",
     "output_type": "stream",
     "text": [
      "F_clf207= 0.7941777323799797\n"
     ]
    }
   ],
   "source": [
    "#bow \n",
    "# clf0=LogisticRegression().fit(train_BOW,Ytrain)  ##only for frist run\n",
    "# z0=pickle.dump(clf0, open('bay_model_207.pkl','wb')) ##only for frist run\n",
    "z0=pickle.load(open('bay_model_207.pkl','rb'))\n",
    "p_clf0=np.array(z0.predict(dev_BOW).tolist(),dtype=float)\n",
    "F_clf0 = precision_recall_fscore_support(Ydev, p_clf0, average='micro')[2]\n",
    "Pred_clf[207]=p_clf0\n",
    "Fscoer_clf[207]=F_clf0\n",
    "print('F_clf207=',F_clf0) "
   ]
  },
  {
   "cell_type": "code",
   "execution_count": 97,
   "metadata": {},
   "outputs": [
    {
     "name": "stdout",
     "output_type": "stream",
     "text": [
      "F_clf207= 0.8082226762002043\n"
     ]
    }
   ],
   "source": [
    "p_clf1=np.array(z0.predict(test_BOW).tolist(),dtype=float)\n",
    "F_clf1 = precision_recall_fscore_support(Ytest, p_clf1, average='micro')[2]\n",
    "Pred_clf_test[207]=p_clf1\n",
    "Fscoer_clf_test[207]=F_clf1\n",
    "print('F_clf207=',F_clf1) "
   ]
  },
  {
   "cell_type": "code",
   "execution_count": 99,
   "metadata": {
    "colab": {},
    "colab_type": "code",
    "id": "xwXCiEETfxIq"
   },
   "outputs": [
    {
     "name": "stdout",
     "output_type": "stream",
     "text": [
      "F_clf208= 0.810520939734423\n"
     ]
    }
   ],
   "source": [
    "#tfidf\n",
    "# clf0=LogisticRegression(C=8).fit(train_TFIDF,Ytrain)  ##only for frist run\n",
    "# z0=pickle.dump(clf0, open('bay_model_208.pkl','wb'))  ##only for frist run\n",
    "z0=pickle.load(open('bay_model_208.pkl','rb'))\n",
    "p_clf0=np.array(z0.predict(dev_TFIDF).tolist(),dtype=float)\n",
    "F_clf0 = precision_recall_fscore_support(Ydev, p_clf0, average='micro')[2]\n",
    "Pred_clf[208]=p_clf0\n",
    "Fscoer_clf[208]=F_clf0\n",
    "print('F_clf208=',F_clf0) "
   ]
  },
  {
   "cell_type": "code",
   "execution_count": 100,
   "metadata": {},
   "outputs": [
    {
     "name": "stdout",
     "output_type": "stream",
     "text": [
      "F_clf208= 0.8158835546475995\n"
     ]
    }
   ],
   "source": [
    "p_clf1=np.array(z0.predict(test_TFIDF).tolist(),dtype=float)\n",
    "F_clf1 = precision_recall_fscore_support(Ytest, p_clf1, average='micro')[2]\n",
    "Pred_clf_test[208]=p_clf1\n",
    "Fscoer_clf_test[208]=F_clf1\n",
    "print('F_clf208=',F_clf1) "
   ]
  },
  {
   "cell_type": "code",
   "execution_count": 101,
   "metadata": {},
   "outputs": [],
   "source": [
    "for i in range (209,308):\n",
    "##only for frist run\n",
    "#     j=i-209\n",
    "#     ff=np.array(COM_LIST[j],dtype=float)\n",
    "#     fff=pd.DataFrame(ff)\n",
    "#     num=fff.shape[1]-1\n",
    "#     xcom=fff.iloc[:,0:num].as_matrix()\n",
    "#     Ycom=pd.DataFrame(fff.iloc[:,-1].as_matrix())\n",
    "#     clf0=LogisticRegression(C=8).fit(xcom,Ycom)\n",
    "#     z0=pickle.dump(clf0, open('bay_model_%d.pkl'%i,'wb'))\n",
    "    z0=pickle.load(open('bay_model_%d.pkl'%i,'rb'))\n",
    "    p_clf0=z0.predict(dev_TFIDF)\n",
    "    F_clf0 = precision_recall_fscore_support(Ydev, p_clf0, average='micro')[2]\n",
    "    Pred_clf[i]=p_clf0\n",
    "    Fscoer_clf[i]=F_clf0\n",
    "#     print('F_clf%d='%i,F_clf0) \n"
   ]
  },
  {
   "cell_type": "code",
   "execution_count": 102,
   "metadata": {},
   "outputs": [],
   "source": [
    "for i in range (209,308):\n",
    "    z0=pickle.load(open('bay_model_%d.pkl'%i,'rb'))\n",
    "    p_clf1=z0.predict(test_TFIDF)\n",
    "    F_clf1 = precision_recall_fscore_support(Ytest, p_clf1, average='micro')[2]\n",
    "    Pred_clf_test[i]=p_clf1\n",
    "    Fscoer_clf_test[i]=F_clf1\n",
    "#     print('F_clf%d='%i,F_clf1) "
   ]
  },
  {
   "cell_type": "markdown",
   "metadata": {
    "colab_type": "text",
    "id": "8INguFPvgMz1"
   },
   "source": [
    "# 4- ExtraTrees"
   ]
  },
  {
   "cell_type": "code",
   "execution_count": 103,
   "metadata": {
    "colab": {},
    "colab_type": "code",
    "id": "PMIGPSBHfxUU"
   },
   "outputs": [
    {
     "name": "stdout",
     "output_type": "stream",
     "text": [
      "F_clf308= 0.658835546475996\n"
     ]
    }
   ],
   "source": [
    "#bow binary\n",
    "# clf0=ExtraTreesClassifier().fit(train_BOW_bi,Ytrain)  ##only for frist run\n",
    "# z0=pickle.dump(clf0, open('bay_model_308.pkl','wb'))  ##only for frist run\n",
    "z0=pickle.load(open('bay_model_308.pkl','rb'))\n",
    "p_clf0=np.array(z0.predict(dev_BOW_bi).tolist(),dtype=float)\n",
    "F_clf0 = precision_recall_fscore_support(Ydev, p_clf0, average='micro')[2]\n",
    "Pred_clf[308]=p_clf0\n",
    "Fscoer_clf[308]=F_clf0\n",
    "print('F_clf308=',F_clf0) "
   ]
  },
  {
   "cell_type": "code",
   "execution_count": 104,
   "metadata": {},
   "outputs": [
    {
     "name": "stdout",
     "output_type": "stream",
     "text": [
      "F_clf308= 0.6695607763023493\n"
     ]
    }
   ],
   "source": [
    "p_clf1=np.array(z0.predict(test_BOW_bi).tolist(),dtype=float)\n",
    "F_clf1 = precision_recall_fscore_support(Ytest, p_clf1, average='micro')[2]\n",
    "Pred_clf_test[308]=p_clf1\n",
    "Fscoer_clf_test[308]=F_clf1\n",
    "print('F_clf308=',F_clf1) "
   ]
  },
  {
   "cell_type": "code",
   "execution_count": 105,
   "metadata": {
    "colab": {},
    "colab_type": "code",
    "id": "RN79MUK9gPur"
   },
   "outputs": [
    {
     "name": "stdout",
     "output_type": "stream",
     "text": [
      "F_clf309= 0.68488253319714\n"
     ]
    }
   ],
   "source": [
    "#bow \n",
    "# clf0=ExtraTreesClassifier().fit(train_BOW,Ytrain)  ##only for frist run\n",
    "# z0=pickle.dump(clf0, open('bay_model_309.pkl','wb'))  ##only for frist run\n",
    "z0=pickle.load(open('bay_model_309.pkl','rb'))\n",
    "p_clf0=np.array(z0.predict(dev_BOW).tolist(),dtype=float)\n",
    "F_clf0 = precision_recall_fscore_support(Ydev, p_clf0, average='micro')[2]\n",
    "Pred_clf[309]=p_clf0\n",
    "Fscoer_clf[309]=F_clf0\n",
    "print('F_clf309=',F_clf0) "
   ]
  },
  {
   "cell_type": "code",
   "execution_count": 106,
   "metadata": {},
   "outputs": [
    {
     "name": "stdout",
     "output_type": "stream",
     "text": [
      "F_clf309= 0.6940755873340143\n"
     ]
    }
   ],
   "source": [
    "p_clf1=np.array(z0.predict(test_BOW).tolist(),dtype=float)\n",
    "F_clf1 = precision_recall_fscore_support(Ytest, p_clf1, average='micro')[2]\n",
    "Pred_clf_test[309]=p_clf1\n",
    "Fscoer_clf_test[309]=F_clf1\n",
    "print('F_clf309=',F_clf1) "
   ]
  },
  {
   "cell_type": "code",
   "execution_count": 107,
   "metadata": {
    "colab": {},
    "colab_type": "code",
    "id": "-T_vTTdNgP19"
   },
   "outputs": [
    {
     "name": "stdout",
     "output_type": "stream",
     "text": [
      "F_clf310= 0.702247191011236\n"
     ]
    }
   ],
   "source": [
    "#tfidf\n",
    "# clf0=ExtraTreesClassifier().fit(train_TFIDF,Ytrain)  ##only for frist run\n",
    "# z0=pickle.dump(clf0, open('bay_model_310.pkl','wb'))  ##only for frist run\n",
    "z0=pickle.load(open('bay_model_310.pkl','rb'))\n",
    "\n",
    "p_clf0=np.array(z0.predict(dev_TFIDF).tolist(),dtype=float)\n",
    "F_clf0 = precision_recall_fscore_support(Ydev, p_clf0, average='micro')[2]\n",
    "Pred_clf[310]=p_clf0\n",
    "Fscoer_clf[310]=F_clf0\n",
    "print('F_clf310=',F_clf0) "
   ]
  },
  {
   "cell_type": "code",
   "execution_count": 108,
   "metadata": {},
   "outputs": [
    {
     "name": "stdout",
     "output_type": "stream",
     "text": [
      "F_clf310= 0.6999489274770173\n"
     ]
    }
   ],
   "source": [
    "p_clf1=np.array(z0.predict(test_TFIDF).tolist(),dtype=float)\n",
    "F_clf1 = precision_recall_fscore_support(Ytest, p_clf1, average='micro')[2]\n",
    "Pred_clf_test[310]=p_clf1\n",
    "Fscoer_clf_test[310]=F_clf1\n",
    "print('F_clf310=',F_clf1) "
   ]
  },
  {
   "cell_type": "code",
   "execution_count": 109,
   "metadata": {},
   "outputs": [],
   "source": [
    "for i in range (311,411):\n",
    "##only for frist run\n",
    "#     j=i-311\n",
    "#     ff=np.array(COM_LIST[j],dtype=float)\n",
    "#     fff=pd.DataFrame(ff)\n",
    "#     num=fff.shape[1]-1\n",
    "#     xcom=fff.iloc[:,0:num].as_matrix()\n",
    "#     Ycom=pd.DataFrame(fff.iloc[:,-1].as_matrix())\n",
    "#     clf0=ExtraTreesClassifier().fit(xcom,Ycom)\n",
    "#     z0=pickle.dump(clf0, open('bay_model_%d.pkl'%i,'wb'))\n",
    "    z0=pickle.load(open('bay_model_%d.pkl'%i,'rb'))\n",
    "    p_clf0=z0.predict(dev_TFIDF)\n",
    "    F_clf0 = precision_recall_fscore_support(Ydev, p_clf0, average='micro')[2]\n",
    "    Pred_clf[i]=p_clf0\n",
    "    Fscoer_clf[i]=F_clf0\n",
    "#     print('F_clf%d='%i,F_clf0) \n"
   ]
  },
  {
   "cell_type": "code",
   "execution_count": 110,
   "metadata": {},
   "outputs": [],
   "source": [
    "for i in range (311,411):\n",
    "    z0=pickle.load(open('bay_model_%d.pkl'%i,'rb'))\n",
    "    p_clf1=z0.predict(test_TFIDF)\n",
    "    F_clf1 = precision_recall_fscore_support(Ytest, p_clf1, average='micro')[2]\n",
    "    Pred_clf_test[i]=p_clf1\n",
    "    Fscoer_clf_test[i]=F_clf1\n",
    "#     print('F_clf%d='%i,F_clf1) "
   ]
  },
  {
   "cell_type": "markdown",
   "metadata": {},
   "source": [
    "# ذخیره کردن نتایج "
   ]
  },
  {
   "cell_type": "code",
   "execution_count": 113,
   "metadata": {},
   "outputs": [],
   "source": [
    "#result dev\n",
    "#z0_Pred_clf=pickle.dump(Pred_clf[:411], open('Pred_clf0.pkl','wb')) ##only for frist run\n",
    "z0_Pred_clf=pickle.load(open('Pred_clf0.pkl','rb'))\n",
    "\n",
    "# z0_Fscoer_clf=pickle.dump(Fscoer_clf[:411], open('Fscoer_clf0.pkl','wb'))##only for frist run\n",
    "z0_Fscoer_clf=pickle.load(open('Fscoer_clf0.pkl','rb'))\n",
    "\n",
    "z0_allModels_clf=[]\n",
    "for i in range (len(z0_Fscoer_clf)):\n",
    "    z0=pickle.load(open('bay_model_%d.pkl'%i,'rb'))\n",
    "    temp=[]\n",
    "    temp.append(z0)\n",
    "    temp.append(z0_Fscoer_clf[i])\n",
    "    z0_allModels_clf.append(temp)"
   ]
  },
  {
   "cell_type": "code",
   "execution_count": 123,
   "metadata": {},
   "outputs": [],
   "source": [
    "#result test\n",
    "#z1_Pred_clf_test=pickle.dump(Pred_clf_test[:411], open('Pred_clf1_test.pkl','wb'))##only for frist run\n",
    "z1_Pred_clf_test=pickle.load(open('Pred_clf1_test.pkl','rb'))\n",
    "# z1_Fscoer_clf_test=pickle.dump(Fscoer_clf_test[:411], open('Fscoer_clf1_test.pkl','wb'))##only for frist run\n",
    "z1_Fscoer_clf_test=pickle.load(open('Fscoer_clf1_test.pkl','rb'))\n",
    "z1_allModels_clf_test=[]\n",
    "for i in range (len(z1_Fscoer_clf_test)):\n",
    "    z1=pickle.load(open('bay_model_%d.pkl'%i,'rb'))\n",
    "    temp=[]\n",
    "    temp.append(z1)\n",
    "    temp.append(z1_Fscoer_clf_test[i])\n",
    "    z1_allModels_clf_test.append(temp)"
   ]
  },
  {
   "cell_type": "markdown",
   "metadata": {},
   "source": [
    "# بهترین کلاسیفایر"
   ]
  },
  {
   "cell_type": "code",
   "execution_count": 116,
   "metadata": {},
   "outputs": [],
   "source": [
    "def best_clasifire(list_allModle,list_Fscore,list_pred,name):\n",
    "    all_M_D_frame =pd.DataFrame(list_allModle,columns=['Modle','Fscore'])\n",
    "    best_Fscore=(max(list_Fscore))\n",
    "    best_Modle=all_M_D_frame[all_M_D_frame['Fscore']==best_Fscore]\n",
    "    best_pre=list_pred[best_Modle.index[0]]\n",
    "    return best_Fscore,best_pre,best_Modle"
   ]
  },
  {
   "cell_type": "markdown",
   "metadata": {},
   "source": [
    "# رای گیری اکثریت"
   ]
  },
  {
   "cell_type": "code",
   "execution_count": 117,
   "metadata": {},
   "outputs": [],
   "source": [
    "def modle_voting (lable,predict_list,name):\n",
    "    Columns=[]\n",
    "    for i in range(len(predict_list[0])) :\n",
    "        Columns.append('pred%d'%i)\n",
    "    df=pd.DataFrame(predict_list,columns=Columns)\n",
    "    pre_final=[]\n",
    "    for i in range (df.shape[1]):\n",
    "        a=df['pred%d'%i].tolist()\n",
    "        max_freq=np.bincount(a).tolist() \n",
    "        pre_final.append(max_freq.index(max(max_freq)))\n",
    "    F_eclf1=precision_recall_fscore_support(lable,pre_final, average='micro')[2]\n",
    "    return F_eclf1,pre_final \n",
    "\n"
   ]
  },
  {
   "cell_type": "markdown",
   "metadata": {
    "colab_type": "text",
    "id": "VGA0fQ9fK-RD"
   },
   "source": [
    "# Forward Selection "
   ]
  },
  {
   "cell_type": "code",
   "execution_count": 118,
   "metadata": {},
   "outputs": [],
   "source": [
    "def forward (list_modles,list_pred,lable,name):\n",
    "    clf_forward=[]\n",
    "    for i in range (len(list_modles)):\n",
    "        temp=[]\n",
    "        temp.append(list_modles[i][1])\n",
    "        temp.append(list_modles[i][0])\n",
    "        temp.append(list_pred[i])\n",
    "        clf_forward.append(temp)\n",
    "    \n",
    "    sorted(clf_forward, key = itemgetter(0),reverse=False)\n",
    "    best_score_forward=clf_forward[0][0]# افسکور\n",
    "    # print(best_score_forward)\n",
    "    best_pre_forward=[list_pred[0]]\n",
    "\n",
    "\n",
    "    for i in range(len(list_pred)):\n",
    "        templist=best_pre_forward+[clf_forward[i][2]]\n",
    "        p_voting= modle_voting (lable,templist,name)\n",
    "        score_forward = p_voting[0]\n",
    "        pre_forward =p_voting[1]\n",
    "    \n",
    "        if score_forward > best_score_forward:\n",
    "            best_score_forward = score_forward\n",
    "            best_pre_forward=templist  \n",
    "        #     print(best_score_forward)\n",
    "#     print('fscore_Forward%s='%name,best_score_forward)\n",
    "    return  best_score_forward,best_pre_forward\n"
   ]
  },
  {
   "cell_type": "markdown",
   "metadata": {},
   "source": [
    "# Back Ward Elimnation"
   ]
  },
  {
   "cell_type": "code",
   "execution_count": 119,
   "metadata": {},
   "outputs": [],
   "source": [
    "def backward (list_modles,list_pred,lable,name):\n",
    "    clf_backward=[]\n",
    "    for i in range (len(list_modles)):\n",
    "        temp=[]\n",
    "        temp.append(list_modles[i][1])\n",
    "        temp.append(list_modles[i][0])\n",
    "        temp.append(list_pred[i])\n",
    "        clf_backward.append(temp)\n",
    "        \n",
    "    sorted(clf_backward, key = itemgetter(0),reverse=True)\n",
    "\n",
    "    predictbl=[]\n",
    "\n",
    "    for i in range(len(list_pred)):\n",
    "        predictbl.append(clf_backward[i][2])\n",
    "    \n",
    "    backward= modle_voting(lable,list_pred,name)    \n",
    "\n",
    "    best_score_back=backward[0] \n",
    "    best_pre_back = [backward[1]] \n",
    "\n",
    "    templist=list (range (len(predictbl)))\n",
    "    for i in range (1,len(predictbl)):\n",
    "        templist[i]=predictbl[:-i]\n",
    "\n",
    "    for i in range(1,len(predictbl)):#\n",
    "        p_voting= modle_voting (lable,templist[i],name)\n",
    "        if best_score_back < p_voting[0]:\n",
    "            best_score_back = p_voting[0]\n",
    "#             print(best_score_back)\n",
    "            best_pre_back=templist[i]\n",
    "    return best_score_back,best_pre_back"
   ]
  },
  {
   "cell_type": "markdown",
   "metadata": {},
   "source": [
    "# رای گیری بهترین نتایج"
   ]
  },
  {
   "cell_type": "code",
   "execution_count": 186,
   "metadata": {},
   "outputs": [],
   "source": [
    "def all_comb (list_allbestpred,lable,name):\n",
    "    best_score_final = modle_voting(lable,list_allbestpred,name)\n",
    "    return best_score_final[0]"
   ]
  },
  {
   "cell_type": "markdown",
   "metadata": {},
   "source": [
    "# نتایج"
   ]
  },
  {
   "cell_type": "markdown",
   "metadata": {},
   "source": [
    "# dev"
   ]
  },
  {
   "cell_type": "code",
   "execution_count": 183,
   "metadata": {},
   "outputs": [
    {
     "name": "stdout",
     "output_type": "stream",
     "text": [
      "best_clasifire_dev= 0.810520939734423\n",
      "voting_dev= 0.8202247191011236\n",
      "fscore_Forward_dev= 0.8227783452502554\n",
      "fscore_Backward_dev= 0.823799795709908\n",
      "best_score_final_dev= 0.823799795709908\n"
     ]
    }
   ],
   "source": [
    "best_clasifire_dev=best_clasifire(z0_allModels_clf,z0_Fscoer_clf,z0_Pred_clf,'dev')   \n",
    "print ('best_clasifire_dev=',best_clasifire_dev[0])\n",
    "\n",
    "voting_dev=modle_voting(Ydev,z0_Pred_clf,'dev')\n",
    "print ('voting_dev=',voting_dev[0])\n",
    "\n",
    "forward_dev=forward (z0_allModels_clf,z0_Pred_clf,Ydev,'dev')\n",
    "print ('fscore_Forward_dev=',forward_dev[0])\n",
    "\n",
    "backward_dev=backward (z0_allModels_clf,z0_Pred_clf,Ydev,'dev')\n",
    "print ('fscore_Backward_dev=',backward_dev[0])\n",
    "\n",
    "\n",
    "best_predict_final_dev = backward_dev[1]+forward_dev[1]+[np.array(voting_dev[1],dtype=float)]+[best_clasifire_dev[1]]\n",
    "all_comb_dev=all_comb (best_predict_final_dev,Ydev,\"dev\")\n",
    "print('best_score_final_dev=',all_comb_dev)"
   ]
  },
  {
   "cell_type": "markdown",
   "metadata": {},
   "source": [
    "# test"
   ]
  },
  {
   "cell_type": "code",
   "execution_count": 184,
   "metadata": {},
   "outputs": [
    {
     "name": "stdout",
     "output_type": "stream",
     "text": [
      "best_clasifire_test= 0.8158835546475995\n",
      "voting_test= 0.822267620020429\n",
      "fscore_Forward_test= 0.8225229826353422\n",
      "fscore_backward_test= 0.8235444330949949\n",
      "best_score_final_test= 0.822012257405516\n"
     ]
    }
   ],
   "source": [
    "best_clasifire_test=best_clasifire(z1_allModels_clf_test,z1_Fscoer_clf_test,z1_Pred_clf_test,'test')  \n",
    "print ('best_clasifire_test=',best_clasifire_test[0])\n",
    "\n",
    "voting_test=modle_voting(Ytest,z1_Pred_clf_test,'test')\n",
    "print ('voting_test=',voting_test[0])\n",
    "\n",
    "forward_test=forward (z1_allModels_clf_test,z1_Pred_clf_test,Ytest,'test')\n",
    "print ('fscore_Forward_test=',forward_test[0])\n",
    "\n",
    "backward_test= backward(z1_allModels_clf_test,z1_Pred_clf_test,Ytest,'test')\n",
    "print ('fscore_backward_test=',backward_test[0])\n",
    "\n",
    "best_predict_final_test = backward_test[1]+forward_test[1]+[np.array(voting_test[1],dtype=float)]+[best_clasifire_test[1]]\n",
    "all_comb_test=all_comb (best_predict_final_test,Ytest,\"test\")\n",
    "print('best_score_final_test=',all_comb_test)"
   ]
  },
  {
   "cell_type": "markdown",
   "metadata": {},
   "source": [
    "# اعمال فیلتر بر روی افسکور "
   ]
  },
  {
   "cell_type": "markdown",
   "metadata": {},
   "source": [
    "# dev"
   ]
  },
  {
   "cell_type": "code",
   "execution_count": 196,
   "metadata": {},
   "outputs": [
    {
     "data": {
      "text/plain": [
       "(205, 411)"
      ]
     },
     "execution_count": 196,
     "metadata": {},
     "output_type": "execute_result"
    }
   ],
   "source": [
    "Pred_clf=[]\n",
    "allModels_clf=[]\n",
    "Fscoer_clf=[]\n",
    "Pred_clf=[]\n",
    "\n",
    "mean_fscore = sum (z0_Fscoer_clf) / len(z0_allModels_clf)\n",
    "for i in range (len(z0_allModels_clf)):\n",
    "    if z0_Fscoer_clf[i] > mean_fscore :\n",
    "        Fscoer_clf.append(z0_Fscoer_clf[i])\n",
    "        allModels_clf.append(z0_allModels_clf[i])\n",
    "        Pred_clf.append(z0_Pred_clf[i])\n",
    "\n",
    "len(allModels_clf),len(z0_allModels_clf)     "
   ]
  },
  {
   "cell_type": "code",
   "execution_count": 199,
   "metadata": {},
   "outputs": [
    {
     "name": "stdout",
     "output_type": "stream",
     "text": [
      "best_clasifire_dev= 0.810520939734423\n",
      "voting_dev_filter= 0.8074565883554647\n",
      "fscore_Forward_dev_filter= 0.813585291113381\n",
      "fscore_Backward_dev_filter= 0.8084780388151175\n",
      "best_score_final_dev_filter_filter= 0.8084780388151175\n"
     ]
    }
   ],
   "source": [
    "best_clasifire_dev_filter=best_clasifire(allModels_clf,Fscoer_clf,Pred_clf,'dev')   \n",
    "print ('best_clasifire_dev_filter=',best_clasifire_dev_filter[0])\n",
    "\n",
    "voting_dev_filter=modle_voting(Ydev,Pred_clf,'dev')\n",
    "print ('voting_dev_filter=',voting_dev_filter[0])\n",
    "\n",
    "forward_dev_filter=forward (allModels_clf,Pred_clf,Ydev,'dev')\n",
    "print ('fscore_Forward_dev_filter=',forward_dev_filter[0])\n",
    "\n",
    "backward_dev_filter=backward (allModels_clf,Pred_clf,Ydev,'dev')\n",
    "print ('fscore_Backward_dev_filter=',backward_dev_filter[0])\n",
    "\n",
    "\n",
    "best_predict_final_dev_filter = backward_dev_filter[1]+forward_dev_filter[1]+[np.array(voting_dev_filter[1],dtype=float)]+[best_clasifire_dev_filter[1]]\n",
    "all_comb_dev_filter=all_comb (best_predict_final_dev_filter,Ydev,\"dev\")\n",
    "print('best_score_final_dev_filter_filter=',all_comb_dev_filter)"
   ]
  },
  {
   "cell_type": "markdown",
   "metadata": {},
   "source": [
    "# test"
   ]
  },
  {
   "cell_type": "code",
   "execution_count": 206,
   "metadata": {},
   "outputs": [
    {
     "data": {
      "text/plain": [
       "(205, 411)"
      ]
     },
     "execution_count": 206,
     "metadata": {},
     "output_type": "execute_result"
    }
   ],
   "source": [
    "Pred_clf_testf=[]\n",
    "allModels_clf_testf=[]\n",
    "Fscoer_clf_testf=[]\n",
    "Pred_clf_testf=[]\n",
    "\n",
    "mean_fscore_test = sum (z1_Fscoer_clf_test) / len(z1_allModels_clf_test)\n",
    "for i in range (len(z1_allModels_clf_test)):\n",
    "    if z1_Fscoer_clf_test[i] > mean_fscore_test :\n",
    "        Fscoer_clf_testf.append(z1_Fscoer_clf_test[i])\n",
    "        allModels_clf_testf.append(z1_allModels_clf_test[i])\n",
    "        Pred_clf_testf.append(z1_Pred_clf_test[i])\n",
    "\n",
    "len(allModels_clf_testf),len(z1_allModels_clf_test)   "
   ]
  },
  {
   "cell_type": "code",
   "execution_count": 209,
   "metadata": {},
   "outputs": [
    {
     "name": "stdout",
     "output_type": "stream",
     "text": [
      "best_clasifire_test_filter= 0.8158835546475995\n",
      "voting_test_filter= 0.8128192032686414\n",
      "fscore_Forward_test_filter= 0.813585291113381\n",
      "fscore_backward_test_filter= 0.813585291113381\n",
      "best_score_final_test_filter= 0.8133299284984679\n"
     ]
    }
   ],
   "source": [
    "best_clasifire_test_filter=best_clasifire(allModels_clf_testf,Fscoer_clf_testf,Pred_clf_testf,'test')  \n",
    "print ('best_clasifire_test_filter=',best_clasifire_test_filter[0])\n",
    "\n",
    "voting_test_filter=modle_voting(Ytest,Pred_clf_testf,'test')\n",
    "print ('voting_test_filter=',voting_test_filter[0])\n",
    "\n",
    "forward_test_filter=forward (allModels_clf_testf,Pred_clf_testf,Ytest,'test')\n",
    "print ('fscore_Forward_test_filter=',forward_test_filter[0])\n",
    "\n",
    "backward_test_filter= backward(allModels_clf_testf,Pred_clf_testf,Ytest,'test')\n",
    "print ('fscore_backward_test_filter=',backward_test_filter[0])\n",
    "\n",
    "best_predict_final_test_filter = backward_test_filter[1]+forward_test_filter[1]+[np.array(voting_test_filter[1],dtype=float)]+[best_clasifire_test_filter[1]]\n",
    "all_comb_test_filter=all_comb (best_predict_final_test_filter,Ytest,\"test\")\n",
    "print('best_score_final_test_filter=',all_comb_test_filter)"
   ]
  }
 ],
 "metadata": {
  "colab": {
   "name": "تشخیص نوسنده.ipynb",
   "provenance": [],
   "version": "0.3.2"
  },
  "kernelspec": {
   "display_name": "Python 3",
   "language": "python",
   "name": "python3"
  },
  "language_info": {
   "codemirror_mode": {
    "name": "ipython",
    "version": 3
   },
   "file_extension": ".py",
   "mimetype": "text/x-python",
   "name": "python",
   "nbconvert_exporter": "python",
   "pygments_lexer": "ipython3",
   "version": "3.6.8"
  }
 },
 "nbformat": 4,
 "nbformat_minor": 1
}
