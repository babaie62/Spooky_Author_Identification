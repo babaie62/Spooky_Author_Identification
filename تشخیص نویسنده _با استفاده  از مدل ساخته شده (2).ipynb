{
 "cells": [
  {
   "cell_type": "code",
   "execution_count": 1,
   "metadata": {},
   "outputs": [],
   "source": [
    "import pickle\n",
    "import numpy as np \n",
    "import pandas as pd\n",
    "from operator import itemgetter \n",
    "from sklearn.metrics import precision_recall_fscore_support"
   ]
  },
  {
   "cell_type": "markdown",
   "metadata": {},
   "source": [
    "# فراخوانی مدل های مورد نیاز "
   ]
  },
  {
   "cell_type": "code",
   "execution_count": 2,
   "metadata": {},
   "outputs": [],
   "source": [
    "z0_Pred_clf=pickle.load(open('Pred_clf0.pkl','rb'))\n",
    "z0_allModels_clf =pickle.load(open('allModels_clf0.pkl','rb'))\n",
    "z0_Fscoer_clf=pickle.load(open('Fscoer_clf0.pkl','rb'))\n",
    "z0_Pred_clf=pickle.load(open('Pred_clf0.pkl','rb'))\n",
    "\n",
    "Ydev=pickle.load(open('Ydev.pkl','rb'))\n",
    "Ytest=pickle.load(open('Ytest.pkl','rb'))\n"
   ]
  },
  {
   "cell_type": "code",
   "execution_count": 3,
   "metadata": {},
   "outputs": [
    {
     "name": "stdout",
     "output_type": "stream",
     "text": [
      "Best_Singleclf_Fscore= 0.810520939734423\n",
      "best_score_voting= 0.8202247191011236\n",
      "best_fscore_Forward= 0.822267620020429\n",
      "fscore_Backward= 0.823799795709908\n"
     ]
    }
   ],
   "source": [
    "#best clasifire\n",
    "all_M_D_frame =pd.DataFrame(z0_allModels_clf,columns=['Modle','Fscore'])\n",
    "Best_Fscore=(max(z0_Fscoer_clf))\n",
    "\n",
    "Best_Modle=all_M_D_frame[all_M_D_frame['Fscore']==Best_Fscore]\n",
    "\n",
    "best_pre=z0_Pred_clf[Best_Modle.index[0]]\n",
    "\n",
    "print('Best_Singleclf_Fscore=',Best_Fscore)\n",
    "\n",
    "# voting\n",
    "\n",
    "def modle_voting (Ydev,predict_list):\n",
    "    Columns=[]\n",
    "    for i in range(len(predict_list[0])) :\n",
    "        Columns.append('pred%d'%i)\n",
    "    df=pd.DataFrame(predict_list,columns=Columns)\n",
    "    pre_final=[]\n",
    "    for i in range (df.shape[1]):\n",
    "        a=df['pred%d'%i].tolist()\n",
    "        max_freq=np.bincount(a).tolist() \n",
    "        pre_final.append(max_freq.index(max(max_freq)))\n",
    "    F_eclf1=precision_recall_fscore_support(Ydev,pre_final, average='micro')[2]\n",
    "    return F_eclf1,pre_final \n",
    "\n",
    "best_score_com = modle_voting(Ydev,z0_Pred_clf)[0]    \n",
    "best_pre_com = modle_voting(Ydev,z0_Pred_clf)[1]  \n",
    "\n",
    "print('best_score_voting=',best_score_com )\n",
    "# best_pre_com \n",
    "\n",
    "\n",
    "#forward\n",
    "clf_forward=[]\n",
    "for i in range (len(z0_allModels_clf)):\n",
    "    temp=[]\n",
    "    temp.append(z0_allModels_clf[i][1])\n",
    "    temp.append(z0_allModels_clf[i][0])\n",
    "    temp.append(z0_Pred_clf[i])\n",
    "    clf_forward.append(temp)\n",
    "\n",
    "sorted(clf_forward, key = itemgetter(0),reverse=False)\n",
    "best_score_forward=clf_forward[0][0]\n",
    "#print(best_score_forward)\n",
    "best_pre_forward=[z0_Pred_clf[0]]\n",
    "\n",
    "for i in range(len(z0_Pred_clf)):\n",
    "    templist=best_pre_forward+[clf_forward[i][2]]\n",
    "    p_voting= modle_voting (Ydev,templist)\n",
    "    score_forward = p_voting[0]\n",
    "    pre_forward =p_voting[1]\n",
    "    \n",
    "    if score_forward > best_score_forward:\n",
    "        best_score_forward = score_forward\n",
    "        best_pre_forward=templist  \n",
    "    #print(best_score_forward)\n",
    "\n",
    "\n",
    "print('best_fscore_Forward=',best_score_forward)\n",
    "# best_pre_forward\n",
    "\n",
    "\n",
    "#backward\n",
    "z0_Pred_clf =pickle.load(open('Pred_clf0.pkl','rb'))\n",
    "z0_allModels_clf =pickle.load(open('allModels_clf0.pkl','rb'))\n",
    "clf_backward=[]\n",
    "for i in range (len(z0_allModels_clf)):\n",
    "    temp=[]\n",
    "    temp.append(z0_allModels_clf[i][1])\n",
    "    temp.append(z0_allModels_clf[i][0])\n",
    "    temp.append(z0_Pred_clf[i])\n",
    "    clf_backward.append(temp)\n",
    "    \n",
    "\n",
    "sorted(clf_backward, key = itemgetter(0),reverse=True)\n",
    "predictbl=[]\n",
    "\n",
    "for i in range(len(z0_Pred_clf)):\n",
    "    predictbl.append(clf_backward[i][2])\n",
    "    \n",
    "backward= modle_voting(Ydev,z0_Pred_clf)    \n",
    "\n",
    "best_score_back=backward[0] \n",
    "best_pre_back = [backward[1]] \n",
    "\n",
    "templist=list (range (len(predictbl)))\n",
    "for i in range (1,len(predictbl)):\n",
    "     templist[i]=predictbl[:-i]\n",
    "\n",
    "for i in range(1,len(predictbl)):#\n",
    "    p_voting= modle_voting (Ydev,templist[i])\n",
    "    if best_score_back < p_voting[0]:\n",
    "        best_score_back = p_voting[0]\n",
    "        #print(best_score_back)\n",
    "        best_pre_back=templist[i]\n",
    "\n",
    "print('fscore_Backward=',best_score_back)\n",
    "# best_pre_back\n",
    "\n",
    "\n",
    "# comm\n",
    "\n",
    "\n"
   ]
  },
  {
   "cell_type": "code",
   "execution_count": 4,
   "metadata": {},
   "outputs": [],
   "source": [
    "z0_Pred_clf=pickle.load(open('Pred_clf0.pkl','rb'))\n",
    "\n",
    "def modle_voting (Ydev,predict_list):\n",
    "    Columns=[]\n",
    "    for i in range(len(predict_list[0])) :\n",
    "        Columns.append('pred%d'%i)\n",
    "    df=pd.DataFrame(predict_list,columns=Columns)\n",
    "    pre_final=[]\n",
    "    for i in range (df.shape[1]):\n",
    "        a=df['pred%d'%i].tolist()\n",
    "        max_freq=np.bincount(a).tolist() \n",
    "        pre_final.append(max_freq.index(max(max_freq)))\n",
    "    F_eclf1=precision_recall_fscore_support(Ydev,pre_final, average='micro')[2]\n",
    "    return F_eclf1,pre_final \n"
   ]
  },
  {
   "cell_type": "code",
   "execution_count": 5,
   "metadata": {},
   "outputs": [
    {
     "name": "stdout",
     "output_type": "stream",
     "text": [
      "best_score_final= 0.8197139938712973\n"
     ]
    }
   ],
   "source": [
    "best_predict_final = best_pre_back+best_pre_forward+[np.array(best_pre_com)]+[np.array(best_pre.tolist(),dtype=float)]\n",
    "best_score_final = modle_voting(Ydev,best_predict_final)[0] \n",
    "print('best_score_final=',best_score_final)"
   ]
  },
  {
   "cell_type": "code",
   "execution_count": null,
   "metadata": {},
   "outputs": [],
   "source": []
  }
 ],
 "metadata": {
  "kernelspec": {
   "display_name": "Python 3",
   "language": "python",
   "name": "python3"
  },
  "language_info": {
   "codemirror_mode": {
    "name": "ipython",
    "version": 3
   },
   "file_extension": ".py",
   "mimetype": "text/x-python",
   "name": "python",
   "nbconvert_exporter": "python",
   "pygments_lexer": "ipython3",
   "version": "3.6.8"
  }
 },
 "nbformat": 4,
 "nbformat_minor": 2
}
